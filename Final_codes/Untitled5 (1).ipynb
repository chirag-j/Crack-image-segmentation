{
  "nbformat": 4,
  "nbformat_minor": 0,
  "metadata": {
    "accelerator": "GPU",
    "colab": {
      "name": "Untitled5.ipynb",
      "provenance": [],
      "collapsed_sections": []
    },
    "kernelspec": {
      "display_name": "Python 3",
      "name": "python3"
    }
  },
  "cells": [
    {
      "cell_type": "code",
      "metadata": {
        "id": "hYqIArRT7wHw"
      },
      "source": [
        "\n",
        "\n",
        "import numpy as np \n",
        "import pandas as pd \n",
        "import matplotlib.pyplot as plt\n",
        "%matplotlib inline\n",
        "\n",
        "import os\n",
        "import itertools\n",
        "from glob import glob\n",
        "from PIL import Image\n",
        "\n",
        "from sklearn.metrics import confusion_matrix\n",
        "from sklearn.model_selection import train_test_split\n",
        "\n",
        "from keras.models import Sequential\n",
        "from keras.layers import Dense, Dropout, Flatten, Conv2D, MaxPool2D\n",
        "from keras.layers.normalization import BatchNormalization\n"
      ],
      "execution_count": 1,
      "outputs": []
    },
    {
      "cell_type": "code",
      "metadata": {
        "id": "JC5J670o9dm5",
        "outputId": "182fbe33-ad08-4d73-e2be-519e0292dadb",
        "colab": {
          "base_uri": "https://localhost:8080/",
          "height": 34
        }
      },
      "source": [
        "from google.colab import drive\n",
        "drive.mount('/content/drive')"
      ],
      "execution_count": 2,
      "outputs": [
        {
          "output_type": "stream",
          "text": [
            "Mounted at /content/drive\n"
          ],
          "name": "stdout"
        }
      ]
    },
    {
      "cell_type": "code",
      "metadata": {
        "id": "QROJqCY69l9w"
      },
      "source": [
        "crack_positive='/content/drive/My Drive/Contact Information (File responses)/448/Cracks'\n",
        "crack_negative='/content/drive/My Drive/Contact Information (File responses)/448/NonCracks'"
      ],
      "execution_count": 3,
      "outputs": []
    },
    {
      "cell_type": "code",
      "metadata": {
        "id": "lPJ4dIcyCiSy"
      },
      "source": [
        "crack_positive_df=pd.DataFrame(columns=('path','image','label'),index=np.arange(0,200))\n",
        "crack_negative_df=pd.DataFrame(columns=('path','image','label'),index=np.arange(0,200))\n",
        "imageid_path_dict_Negative = np.array([x for x in glob(os.path.join(crack_negative, '*.jpg'))])           #glob is used to get a list of images \n",
        "                                                                                                         #providing path for the dictonary in the drive\n",
        "imageid_path_dict_Positive = np.array([x for x in glob(os.path.join(crack_positive, '*.jpg'))])"
      ],
      "execution_count": 4,
      "outputs": []
    },
    {
      "cell_type": "code",
      "metadata": {
        "id": "4eczNWC9FrhX"
      },
      "source": [
        "crack_negative_df['path']=imageid_path_dict_Negative # providing path for the new data frame\n",
        "crack_negative_df['label']=0\n",
        "crack_negative_df['image']=crack_negative_df['path'].map(lambda x: np.asarray(Image.open(x).resize((227,227)))) #changing the image size as the size of image for negative crack is 227*227 and for positive crack is 360*640 \n",
        "# and storing it in a dataframe\n"
      ],
      "execution_count": 6,
      "outputs": []
    },
    {
      "cell_type": "code",
      "metadata": {
        "id": "0mKbYLVSHEoe"
      },
      "source": [
        "crack_positive_df['path']=imageid_path_dict_Positive\n",
        "crack_positive_df['label']=1\n",
        "crack_positive_df['image']=crack_positive_df['path'].map(lambda x: np.asarray(Image.open(x).resize((227,227))))"
      ],
      "execution_count": 7,
      "outputs": []
    },
    {
      "cell_type": "code",
      "metadata": {
        "id": "4SHjJabHHftc",
        "outputId": "2bbac1c3-5236-4f8c-fe4b-7e32ecfb4265",
        "colab": {
          "base_uri": "https://localhost:8080/",
          "height": 51
        }
      },
      "source": [
        "print(\"Negative:\",crack_negative_df[\"image\"][0].shape)\n",
        "print(\"Positive:\",crack_positive_df[\"image\"][0].shape)"
      ],
      "execution_count": 8,
      "outputs": [
        {
          "output_type": "stream",
          "text": [
            "Negative: (227, 227, 3)\n",
            "Positive: (227, 227, 3)\n"
          ],
          "name": "stdout"
        }
      ]
    },
    {
      "cell_type": "code",
      "metadata": {
        "id": "NRafQazIJW0p",
        "outputId": "79fc21c4-f252-4e65-d6bc-9a7ad4310ad2",
        "colab": {
          "base_uri": "https://localhost:8080/",
          "height": 51
        }
      },
      "source": [
        "\n",
        "print(imageid_path_dict_Negative.shape,imageid_path_dict_Positive.shape) \n",
        "crack_df = crack_negative_df.append(crack_positive_df)             #making a crack dataframe and adding colums of crack positive df\n",
        "crack_df.reset_index(drop=True,inplace=True)\n",
        "print(crack_df.shape)    "
      ],
      "execution_count": 9,
      "outputs": [
        {
          "output_type": "stream",
          "text": [
            "(200,) (200,)\n",
            "(400, 3)\n"
          ],
          "name": "stdout"
        }
      ]
    },
    {
      "cell_type": "code",
      "metadata": {
        "id": "cqGaQPFEKW1u"
      },
      "source": [
        "features=crack_df.drop(columns=['label'],axis=1)      \n",
        "target=crack_df[\"label\"]"
      ],
      "execution_count": 10,
      "outputs": []
    },
    {
      "cell_type": "code",
      "metadata": {
        "id": "ToBo8b5YKXT-"
      },
      "source": [
        "x_train_o, x_test_o, y_train, y_test = train_test_split(features, target, test_size=0.30,random_state=14)       #splitting the dataset to test and train \n"
      ],
      "execution_count": 11,
      "outputs": []
    },
    {
      "cell_type": "code",
      "metadata": {
        "id": "NEj5KTFaKqiw"
      },
      "source": [
        "x_train = np.asarray(x_train_o['image'].tolist())          #converting the values to the array and then converting to list\n",
        "x_test = np.asarray(x_test_o['image'].tolist())"
      ],
      "execution_count": 12,
      "outputs": []
    },
    {
      "cell_type": "code",
      "metadata": {
        "id": "U8OXGdcWOyBN"
      },
      "source": [
        "x_train_mean = np.mean(x_train)\n",
        "x_train_std = np.std(x_train)"
      ],
      "execution_count": 13,
      "outputs": []
    },
    {
      "cell_type": "code",
      "metadata": {
        "id": "RzCsNwHpO1DE"
      },
      "source": [
        "x_test_mean = np.mean(x_test)\n",
        "x_test_std = np.std(x_test)"
      ],
      "execution_count": 14,
      "outputs": []
    },
    {
      "cell_type": "code",
      "metadata": {
        "id": "9metm-rLO4gr"
      },
      "source": [
        "x_train = (x_train - x_train_mean)/x_train_std\n",
        "x_test = (x_test - x_test_mean)/x_test_std"
      ],
      "execution_count": 15,
      "outputs": []
    },
    {
      "cell_type": "code",
      "metadata": {
        "id": "1xK12aMDO8Nz"
      },
      "source": [
        "x_train = x_train.reshape(x_train.shape[0], *(227, 227, 3))\n",
        "x_test = x_test.reshape(x_test.shape[0], *(227, 227, 3))\n"
      ],
      "execution_count": 16,
      "outputs": []
    },
    {
      "cell_type": "code",
      "metadata": {
        "id": "9b4cZxjlO_s9",
        "outputId": "e97b0c5f-d20a-4d6d-b555-fca7239d4ef4",
        "colab": {
          "base_uri": "https://localhost:8080/",
          "height": 1000
        }
      },
      "source": [
        "input_shape = (227, 227, 3)\n",
        "\n",
        "model = Sequential()\n",
        "model.add(Conv2D(32, kernel_size=(3, 3),activation='relu',padding = 'Same',input_shape=input_shape))\n",
        "model.add(Conv2D(32,kernel_size=(3, 3), activation='relu',padding = 'Same',))\n",
        "model.add(MaxPool2D(pool_size = (2, 2)))\n",
        "model.add(Dropout(0.25))\n",
        "\n",
        "model.add(Conv2D(64, (3, 3), activation='relu',padding = 'Same'))\n",
        "model.add(Conv2D(64, (3, 3), activation='relu',padding = 'Same'))\n",
        "model.add(MaxPool2D(pool_size=(2, 2)))\n",
        "model.add(Dropout(0.40))\n",
        "\n",
        "model.add(Flatten())\n",
        "model.add(Dense(128, activation='relu'))\n",
        "model.add(Dropout(0.5))\n",
        "model.add(Dense(1, activation='sigmoid'))\n",
        "model.summary()\n",
        "\n",
        "model.compile(optimizer='adam',loss='binary_crossentropy',metrics=['accuracy'])\n",
        "\n",
        "model.fit(x_train, y_train, validation_split=0.3,epochs=20, batch_size=50)"
      ],
      "execution_count": 17,
      "outputs": [
        {
          "output_type": "stream",
          "text": [
            "Model: \"sequential\"\n",
            "_________________________________________________________________\n",
            "Layer (type)                 Output Shape              Param #   \n",
            "=================================================================\n",
            "conv2d (Conv2D)              (None, 227, 227, 32)      896       \n",
            "_________________________________________________________________\n",
            "conv2d_1 (Conv2D)            (None, 227, 227, 32)      9248      \n",
            "_________________________________________________________________\n",
            "max_pooling2d (MaxPooling2D) (None, 113, 113, 32)      0         \n",
            "_________________________________________________________________\n",
            "dropout (Dropout)            (None, 113, 113, 32)      0         \n",
            "_________________________________________________________________\n",
            "conv2d_2 (Conv2D)            (None, 113, 113, 64)      18496     \n",
            "_________________________________________________________________\n",
            "conv2d_3 (Conv2D)            (None, 113, 113, 64)      36928     \n",
            "_________________________________________________________________\n",
            "max_pooling2d_1 (MaxPooling2 (None, 56, 56, 64)        0         \n",
            "_________________________________________________________________\n",
            "dropout_1 (Dropout)          (None, 56, 56, 64)        0         \n",
            "_________________________________________________________________\n",
            "flatten (Flatten)            (None, 200704)            0         \n",
            "_________________________________________________________________\n",
            "dense (Dense)                (None, 128)               25690240  \n",
            "_________________________________________________________________\n",
            "dropout_2 (Dropout)          (None, 128)               0         \n",
            "_________________________________________________________________\n",
            "dense_1 (Dense)              (None, 1)                 129       \n",
            "=================================================================\n",
            "Total params: 25,755,937\n",
            "Trainable params: 25,755,937\n",
            "Non-trainable params: 0\n",
            "_________________________________________________________________\n",
            "Epoch 1/20\n",
            "2/4 [==============>...............] - ETA: 0s - loss: 21.9993 - accuracy: 0.4700WARNING:tensorflow:Callbacks method `on_train_batch_end` is slow compared to the batch time (batch time: 0.0628s vs `on_train_batch_end` time: 0.1148s). Check your callbacks.\n",
            "4/4 [==============================] - 2s 562ms/step - loss: 13.8997 - accuracy: 0.4847 - val_loss: 3.0436 - val_accuracy: 0.4881\n",
            "Epoch 2/20\n",
            "4/4 [==============================] - 1s 179ms/step - loss: 1.9363 - accuracy: 0.5663 - val_loss: 0.6173 - val_accuracy: 0.5119\n",
            "Epoch 3/20\n",
            "4/4 [==============================] - 1s 178ms/step - loss: 0.6866 - accuracy: 0.4847 - val_loss: 0.6084 - val_accuracy: 0.5119\n",
            "Epoch 4/20\n",
            "4/4 [==============================] - 1s 178ms/step - loss: 0.6125 - accuracy: 0.4949 - val_loss: 0.5574 - val_accuracy: 0.6667\n",
            "Epoch 5/20\n",
            "4/4 [==============================] - 1s 177ms/step - loss: 0.5667 - accuracy: 0.5816 - val_loss: 0.4802 - val_accuracy: 0.7738\n",
            "Epoch 6/20\n",
            "4/4 [==============================] - 1s 177ms/step - loss: 0.5320 - accuracy: 0.6990 - val_loss: 0.4538 - val_accuracy: 0.8452\n",
            "Epoch 7/20\n",
            "4/4 [==============================] - 1s 176ms/step - loss: 0.4904 - accuracy: 0.8214 - val_loss: 0.4356 - val_accuracy: 0.8810\n",
            "Epoch 8/20\n",
            "4/4 [==============================] - 1s 176ms/step - loss: 0.4680 - accuracy: 0.8367 - val_loss: 0.4056 - val_accuracy: 0.8810\n",
            "Epoch 9/20\n",
            "4/4 [==============================] - 1s 177ms/step - loss: 0.4746 - accuracy: 0.8163 - val_loss: 0.3741 - val_accuracy: 0.8929\n",
            "Epoch 10/20\n",
            "4/4 [==============================] - 1s 177ms/step - loss: 0.3851 - accuracy: 0.8571 - val_loss: 0.3088 - val_accuracy: 0.9286\n",
            "Epoch 11/20\n",
            "4/4 [==============================] - 1s 177ms/step - loss: 0.3510 - accuracy: 0.8724 - val_loss: 0.2457 - val_accuracy: 0.9167\n",
            "Epoch 12/20\n",
            "4/4 [==============================] - 1s 177ms/step - loss: 0.3280 - accuracy: 0.8622 - val_loss: 0.2527 - val_accuracy: 0.9048\n",
            "Epoch 13/20\n",
            "4/4 [==============================] - 1s 177ms/step - loss: 0.2521 - accuracy: 0.9031 - val_loss: 0.2658 - val_accuracy: 0.9405\n",
            "Epoch 14/20\n",
            "4/4 [==============================] - 1s 177ms/step - loss: 0.2857 - accuracy: 0.9286 - val_loss: 0.2200 - val_accuracy: 0.9524\n",
            "Epoch 15/20\n",
            "4/4 [==============================] - 1s 177ms/step - loss: 0.2182 - accuracy: 0.9439 - val_loss: 0.2276 - val_accuracy: 0.9405\n",
            "Epoch 16/20\n",
            "4/4 [==============================] - 1s 175ms/step - loss: 0.2162 - accuracy: 0.8929 - val_loss: 0.2469 - val_accuracy: 0.9524\n",
            "Epoch 17/20\n",
            "4/4 [==============================] - 1s 174ms/step - loss: 0.1948 - accuracy: 0.9643 - val_loss: 0.2182 - val_accuracy: 0.9643\n",
            "Epoch 18/20\n",
            "4/4 [==============================] - 1s 176ms/step - loss: 0.1746 - accuracy: 0.9847 - val_loss: 0.2678 - val_accuracy: 0.9286\n",
            "Epoch 19/20\n",
            "4/4 [==============================] - 1s 180ms/step - loss: 0.1372 - accuracy: 0.9643 - val_loss: 0.2568 - val_accuracy: 0.9405\n",
            "Epoch 20/20\n",
            "4/4 [==============================] - 1s 175ms/step - loss: 0.1263 - accuracy: 0.9592 - val_loss: 0.3602 - val_accuracy: 0.8929\n"
          ],
          "name": "stdout"
        },
        {
          "output_type": "execute_result",
          "data": {
            "text/plain": [
              "<tensorflow.python.keras.callbacks.History at 0x7ff1b0481d68>"
            ]
          },
          "metadata": {
            "tags": []
          },
          "execution_count": 17
        }
      ]
    },
    {
      "cell_type": "code",
      "metadata": {
        "id": "8C4OB15dPOH0",
        "outputId": "4ef54567-a9fd-49c9-a51a-2d5f22d3a517",
        "colab": {
          "base_uri": "https://localhost:8080/",
          "height": 54
        }
      },
      "source": [
        "history = model.history\n",
        "print(history.history)"
      ],
      "execution_count": 18,
      "outputs": [
        {
          "output_type": "stream",
          "text": [
            "{'loss': [13.899651527404785, 1.9363138675689697, 0.6866228580474854, 0.6124521493911743, 0.566676914691925, 0.532014787197113, 0.49036383628845215, 0.46802592277526855, 0.4746114909648895, 0.3850890100002289, 0.3510113060474396, 0.32803964614868164, 0.2520785331726074, 0.28569623827934265, 0.21822308003902435, 0.216160386800766, 0.1947629451751709, 0.17456510663032532, 0.13719633221626282, 0.12634959816932678], 'accuracy': [0.48469388484954834, 0.5663265585899353, 0.48469388484954834, 0.4948979616165161, 0.581632673740387, 0.6989796161651611, 0.8214285969734192, 0.8367347121238708, 0.8163265585899353, 0.8571428656578064, 0.8724489808082581, 0.8622449040412903, 0.9030612111091614, 0.9285714030265808, 0.9438775777816772, 0.8928571343421936, 0.9642857313156128, 0.9846938848495483, 0.9642857313156128, 0.9591836929321289], 'val_loss': [3.043635845184326, 0.6172512769699097, 0.6084253191947937, 0.5574398636817932, 0.48017963767051697, 0.4537717401981354, 0.4356096386909485, 0.40559282898902893, 0.37407806515693665, 0.308807909488678, 0.24574951827526093, 0.25269952416419983, 0.26577022671699524, 0.22002732753753662, 0.22759602963924408, 0.24693667888641357, 0.21817243099212646, 0.26778221130371094, 0.25681591033935547, 0.36019712686538696], 'val_accuracy': [0.488095223903656, 0.511904776096344, 0.511904776096344, 0.6666666865348816, 0.773809552192688, 0.8452380895614624, 0.8809523582458496, 0.8809523582458496, 0.8928571343421936, 0.9285714030265808, 0.9166666865348816, 0.9047619104385376, 0.9404761791229248, 0.9523809552192688, 0.9404761791229248, 0.9523809552192688, 0.9642857313156128, 0.9285714030265808, 0.9404761791229248, 0.8928571343421936]}\n"
          ],
          "name": "stdout"
        }
      ]
    },
    {
      "cell_type": "code",
      "metadata": {
        "id": "yp67iTNCQLV7",
        "outputId": "7f233584-1384-482d-f83e-4a2dd159c39b",
        "colab": {
          "base_uri": "https://localhost:8080/",
          "height": 297
        }
      },
      "source": [
        "fig, ax = plt.subplots()\n",
        "\n",
        "ax.plot(history.history['accuracy'],label='training accuracy')\n",
        "ax.plot(history.history['val_accuracy'],label='val accuracy')\n",
        "\n",
        "ax.set_title('model accuracy',{'size':16})\n",
        "ax.set_xlabel('epoch',{'size':16})\n",
        "ax.set_ylabel('accuracy',{'size':16})\n",
        "              \n",
        "plt.tick_params(labelsize=14)\n",
        "plt.legend(loc='lower right')\n",
        "plt.tight_layout()\n",
        "plt.show()"
      ],
      "execution_count": 19,
      "outputs": [
        {
          "output_type": "display_data",
          "data": {
            "image/png": "[encoded data removed]",
            "text/plain": [
              "<Figure size 432x288 with 1 Axes>"
            ]
          },
          "metadata": {
            "tags": [],
            "needs_background": "light"
          }
        }
      ]
    },
    {
      "cell_type": "code",
      "metadata": {
        "id": "Pnjzf10xQSBj",
        "outputId": "cb922a4c-ba0a-4012-ea8f-73d1d3545488",
        "colab": {
          "base_uri": "https://localhost:8080/",
          "height": 297
        }
      },
      "source": [
        "fig, ax = plt.subplots()\n",
        "\n",
        "ax.plot(history.history['loss'],label='training loss')\n",
        "ax.plot(history.history['val_loss'],label='val loss')\n",
        "\n",
        "ax.set_title('model loss',{'size':16})\n",
        "ax.set_xlabel('epoch',{'size':16})\n",
        "ax.set_ylabel('loss',{'size':16})\n",
        "              \n",
        "plt.tick_params(labelsize=14)\n",
        "plt.legend(loc='upper right')\n",
        "plt.tight_layout()\n",
        "plt.show()"
      ],
      "execution_count": 20,
      "outputs": [
        {
          "output_type": "display_data",
          "data": {
            "image/png": "[encoded data removed]",
            "text/plain": [
              "<Figure size 432x288 with 1 Axes>"
            ]
          },
          "metadata": {
            "tags": [],
            "needs_background": "light"
          }
        }
      ]
    },
    {
      "cell_type": "code",
      "metadata": {
        "id": "PKImBK8NQXCF"
      },
      "source": [
        ""
      ],
      "execution_count": null,
      "outputs": []
    }
  ]
}